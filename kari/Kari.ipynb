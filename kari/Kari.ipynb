{
 "cells": [
  {
   "cell_type": "markdown",
   "metadata": {},
   "source": [
    "# Kari"
   ]
  },
  {
   "cell_type": "markdown",
   "metadata": {},
   "source": [
    "Introduces the main ways of using Kari."
   ]
  },
  {
   "cell_type": "markdown",
   "metadata": {},
   "source": [
    "## Training"
   ]
  },
  {
   "cell_type": "markdown",
   "metadata": {},
   "source": [
    "Import the neccecary modules"
   ]
  },
  {
   "cell_type": "code",
   "execution_count": 70,
   "metadata": {},
   "outputs": [],
   "source": [
    "from dataset import Dataset\n",
    "from utils_parameter_parsing import *\n",
    "from sequence_processing_model import SequenceProcessingModel"
   ]
  },
  {
   "cell_type": "markdown",
   "metadata": {},
   "source": [
    "Load the parameters from the config file and create a model. Note that you can also overide any arguments in `config.ini` by passing them in a dictionary to `process_parameters`."
   ]
  },
  {
   "cell_type": "code",
   "execution_count": 71,
   "metadata": {},
   "outputs": [],
   "source": [
    "config = config_parser('./config.ini') # parse config.ini\n",
    "parameters = process_parameters(config, {}) # process_parameters expects a dictionary"
   ]
  },
  {
   "cell_type": "markdown",
   "metadata": {},
   "source": [
    "Create a `SequenceProcessingModel` object. This object coordinates training/prediction/loading of models and datasets."
   ]
  },
  {
   "cell_type": "code",
   "execution_count": 72,
   "metadata": {},
   "outputs": [],
   "source": [
    "sequence_processer = SequenceProcessingModel(**parameters)"
   ]
  },
  {
   "cell_type": "markdown",
   "metadata": {},
   "source": [
    "We can then load the dataset (specified by the `dataset_text_folder` parameter). If pretrained token embeddings were specified with `token_pretrained_embedding_filepath`, these will be loaded also."
   ]
  },
  {
   "cell_type": "code",
   "execution_count": 4,
   "metadata": {},
   "outputs": [
    {
     "name": "stdout",
     "output_type": "stream",
     "text": [
      "Loading dataset... Done (0.71 seconds)\n",
      "Loading embeddings... found 1891782 word vectors of dimension 200.\n",
      "Done (72.29 seconds)\n"
     ]
    }
   ],
   "source": [
    "sequence_processer.load_dataset()"
   ]
  },
  {
   "cell_type": "markdown",
   "metadata": {},
   "source": [
    "Lastly, we specify the model we would like to use. Models are specified by the `model_name` parameter."
   ]
  },
  {
   "cell_type": "code",
   "execution_count": 5,
   "metadata": {},
   "outputs": [
    {
     "name": "stdout",
     "output_type": "stream",
     "text": [
      "Building the simple LSTM-CRF model for NER...WARNING:tensorflow:From /home/john/miniconda3/envs/kari/lib/python3.6/site-packages/keras/backend/tensorflow_backend.py:1247: calling reduce_sum (from tensorflow.python.ops.math_ops) with keep_dims is deprecated and will be removed in a future version.\n",
      "Instructions for updating:\n",
      "keep_dims is deprecated, use keepdims instead\n",
      "WARNING:tensorflow:From /home/john/miniconda3/envs/kari/lib/python3.6/site-packages/keras/backend/tensorflow_backend.py:1230: calling reduce_min (from tensorflow.python.ops.math_ops) with keep_dims is deprecated and will be removed in a future version.\n",
      "Instructions for updating:\n",
      "keep_dims is deprecated, use keepdims instead\n",
      "WARNING:tensorflow:From /home/john/miniconda3/envs/kari/lib/python3.6/site-packages/keras/backend/tensorflow_backend.py:1364: calling reduce_any (from tensorflow.python.ops.math_ops) with keep_dims is deprecated and will be removed in a future version.\n",
      "Instructions for updating:\n",
      "keep_dims is deprecated, use keepdims instead\n",
      "WARNING:tensorflow:From /home/john/miniconda3/envs/kari/lib/python3.6/site-packages/keras/backend/tensorflow_backend.py:1489: calling reduce_logsumexp (from tensorflow.python.ops.math_ops) with keep_dims is deprecated and will be removed in a future version.\n",
      "Instructions for updating:\n",
      "keep_dims is deprecated, use keepdims instead\n",
      "WARNING:tensorflow:From /home/john/miniconda3/envs/kari/lib/python3.6/site-packages/keras/backend/tensorflow_backend.py:1349: calling reduce_mean (from tensorflow.python.ops.math_ops) with keep_dims is deprecated and will be removed in a future version.\n",
      "Instructions for updating:\n",
      "keep_dims is deprecated, use keepdims instead\n",
      "_________________________________________________________________\n",
      "Layer (type)                 Output Shape              Param #   \n",
      "=================================================================\n",
      "input_1 (InputLayer)         (None, 50)                0         \n",
      "_________________________________________________________________\n",
      "embedding_1 (Embedding)      (None, 50, 200)           2164000   \n",
      "_________________________________________________________________\n",
      "bidirectional_1 (Bidirection (None, 50, 200)           240800    \n",
      "_________________________________________________________________\n",
      "time_distributed_1 (TimeDist (None, 50, 100)           20100     \n",
      "_________________________________________________________________\n",
      "crf_1 (CRF)                  (None, 50, 5)             540       \n",
      "=================================================================\n",
      "Total params: 2,425,440\n",
      "Trainable params: 261,440\n",
      "Non-trainable params: 2,164,000\n",
      "_________________________________________________________________\n",
      "Done\n"
     ]
    }
   ],
   "source": [
    "sequence_processer.specify_model()"
   ]
  },
  {
   "cell_type": "code",
   "execution_count": 6,
   "metadata": {},
   "outputs": [
    {
     "name": "stdout",
     "output_type": "stream",
     "text": [
      "Train on 5712 samples, validate on 635 samples\n",
      "Epoch 1/50\n",
      "5712/5712 [==============================] - 201s 35ms/step - loss: 3.2505 - acc: 0.9045 - val_loss: 2.6433 - val_acc: 0.9262\n",
      "Epoch 2/50\n",
      "5712/5712 [==============================] - 200s 35ms/step - loss: 3.1122 - acc: 0.9289 - val_loss: 2.5873 - val_acc: 0.9425\n",
      "Epoch 3/50\n",
      "5712/5712 [==============================] - 200s 35ms/step - loss: 3.0688 - acc: 0.9410 - val_loss: 2.5575 - val_acc: 0.9518\n",
      "Epoch 4/50\n",
      "5712/5712 [==============================] - 200s 35ms/step - loss: 3.0411 - acc: 0.9486 - val_loss: 2.5399 - val_acc: 0.9553\n",
      "Epoch 5/50\n",
      "5712/5712 [==============================] - 200s 35ms/step - loss: 3.0218 - acc: 0.9527 - val_loss: 2.5242 - val_acc: 0.9598\n",
      "Epoch 6/50\n",
      "5712/5712 [==============================] - 200s 35ms/step - loss: 3.0076 - acc: 0.9557 - val_loss: 2.5140 - val_acc: 0.9634\n",
      "Epoch 7/50\n",
      "5712/5712 [==============================] - 200s 35ms/step - loss: 2.9969 - acc: 0.9600 - val_loss: 2.5067 - val_acc: 0.9633\n",
      "Epoch 8/50\n",
      "5712/5712 [==============================] - 200s 35ms/step - loss: 2.9885 - acc: 0.9620 - val_loss: 2.5023 - val_acc: 0.9631\n",
      "Epoch 9/50\n",
      "5712/5712 [==============================] - 200s 35ms/step - loss: 2.9821 - acc: 0.9641 - val_loss: 2.4977 - val_acc: 0.9623\n",
      "Epoch 10/50\n",
      "5712/5712 [==============================] - 200s 35ms/step - loss: 2.9768 - acc: 0.9658 - val_loss: 2.4934 - val_acc: 0.9651\n",
      "Epoch 11/50\n",
      "5712/5712 [==============================] - 200s 35ms/step - loss: 2.9724 - acc: 0.9670 - val_loss: 2.4896 - val_acc: 0.9673\n",
      "Epoch 12/50\n",
      "5712/5712 [==============================] - 200s 35ms/step - loss: 2.9686 - acc: 0.9687 - val_loss: 2.4887 - val_acc: 0.9629\n",
      "Epoch 13/50\n",
      "5712/5712 [==============================] - 200s 35ms/step - loss: 2.9655 - acc: 0.9696 - val_loss: 2.4853 - val_acc: 0.9676\n",
      "Epoch 14/50\n",
      "5712/5712 [==============================] - 199s 35ms/step - loss: 2.9627 - acc: 0.9700 - val_loss: 2.4835 - val_acc: 0.9678\n",
      "Epoch 15/50\n",
      "5712/5712 [==============================] - 199s 35ms/step - loss: 2.9602 - acc: 0.9710 - val_loss: 2.4837 - val_acc: 0.9651\n",
      "Epoch 16/50\n",
      "5712/5712 [==============================] - 199s 35ms/step - loss: 2.9580 - acc: 0.9725 - val_loss: 2.4845 - val_acc: 0.9636\n",
      "Epoch 17/50\n",
      "5712/5712 [==============================] - 199s 35ms/step - loss: 2.9562 - acc: 0.9725 - val_loss: 2.4794 - val_acc: 0.9672\n",
      "Epoch 18/50\n",
      "5712/5712 [==============================] - 199s 35ms/step - loss: 2.9544 - acc: 0.9733 - val_loss: 2.4782 - val_acc: 0.9686\n",
      "Epoch 19/50\n",
      "5712/5712 [==============================] - 199s 35ms/step - loss: 2.9529 - acc: 0.9734 - val_loss: 2.4765 - val_acc: 0.9692\n",
      "Epoch 20/50\n",
      "5712/5712 [==============================] - 199s 35ms/step - loss: 2.9514 - acc: 0.9744 - val_loss: 2.4772 - val_acc: 0.9685\n",
      "Epoch 21/50\n",
      "5712/5712 [==============================] - 199s 35ms/step - loss: 2.9500 - acc: 0.9745 - val_loss: 2.4756 - val_acc: 0.9686\n",
      "Epoch 22/50\n",
      "5712/5712 [==============================] - 199s 35ms/step - loss: 2.9488 - acc: 0.9752 - val_loss: 2.4761 - val_acc: 0.9684\n",
      "Epoch 23/50\n",
      "5712/5712 [==============================] - 199s 35ms/step - loss: 2.9476 - acc: 0.9759 - val_loss: 2.4763 - val_acc: 0.9680\n",
      "Epoch 24/50\n",
      "5712/5712 [==============================] - 199s 35ms/step - loss: 2.9466 - acc: 0.9758 - val_loss: 2.4750 - val_acc: 0.9688\n",
      "Epoch 25/50\n",
      "5712/5712 [==============================] - 199s 35ms/step - loss: 2.9454 - acc: 0.9766 - val_loss: 2.4732 - val_acc: 0.9688\n",
      "Epoch 26/50\n",
      "5712/5712 [==============================] - 199s 35ms/step - loss: 2.9445 - acc: 0.9770 - val_loss: 2.4745 - val_acc: 0.9689\n",
      "Epoch 27/50\n",
      "5712/5712 [==============================] - 199s 35ms/step - loss: 2.9436 - acc: 0.9775 - val_loss: 2.4758 - val_acc: 0.9673\n",
      "Epoch 28/50\n",
      "5712/5712 [==============================] - 199s 35ms/step - loss: 2.9428 - acc: 0.9783 - val_loss: 2.4729 - val_acc: 0.9698\n",
      "Epoch 29/50\n",
      "5712/5712 [==============================] - 199s 35ms/step - loss: 2.9419 - acc: 0.9786 - val_loss: 2.4722 - val_acc: 0.9702\n",
      "Epoch 30/50\n",
      "5712/5712 [==============================] - 199s 35ms/step - loss: 2.9411 - acc: 0.9787 - val_loss: 2.4722 - val_acc: 0.9699\n",
      "Epoch 31/50\n",
      "5712/5712 [==============================] - 199s 35ms/step - loss: 2.9405 - acc: 0.9791 - val_loss: 2.4721 - val_acc: 0.9705\n",
      "Epoch 32/50\n",
      "5712/5712 [==============================] - 199s 35ms/step - loss: 2.9398 - acc: 0.9794 - val_loss: 2.4735 - val_acc: 0.9697\n",
      "Epoch 33/50\n",
      "5712/5712 [==============================] - 199s 35ms/step - loss: 2.9391 - acc: 0.9801 - val_loss: 2.4703 - val_acc: 0.9702\n",
      "Epoch 34/50\n",
      "5712/5712 [==============================] - 199s 35ms/step - loss: 2.9383 - acc: 0.9799 - val_loss: 2.4702 - val_acc: 0.9714\n",
      "Epoch 35/50\n",
      "5712/5712 [==============================] - 199s 35ms/step - loss: 2.9379 - acc: 0.9801 - val_loss: 2.4715 - val_acc: 0.9699\n",
      "Epoch 36/50\n",
      "5712/5712 [==============================] - 199s 35ms/step - loss: 2.9373 - acc: 0.9804 - val_loss: 2.4703 - val_acc: 0.9705\n",
      "Epoch 37/50\n",
      "5712/5712 [==============================] - 199s 35ms/step - loss: 2.9367 - acc: 0.9808 - val_loss: 2.4691 - val_acc: 0.9706\n",
      "Epoch 38/50\n",
      "5712/5712 [==============================] - 199s 35ms/step - loss: 2.9362 - acc: 0.9808 - val_loss: 2.4696 - val_acc: 0.9700\n",
      "Epoch 39/50\n",
      "5712/5712 [==============================] - 199s 35ms/step - loss: 2.9356 - acc: 0.9815 - val_loss: 2.4701 - val_acc: 0.9710\n",
      "Epoch 40/50\n",
      "5712/5712 [==============================] - 199s 35ms/step - loss: 2.9350 - acc: 0.9818 - val_loss: 2.4684 - val_acc: 0.9703\n",
      "Epoch 41/50\n",
      "5712/5712 [==============================] - 199s 35ms/step - loss: 2.9345 - acc: 0.9817 - val_loss: 2.4694 - val_acc: 0.9716\n",
      "Epoch 42/50\n",
      "5712/5712 [==============================] - 199s 35ms/step - loss: 2.9340 - acc: 0.9817 - val_loss: 2.4710 - val_acc: 0.9713\n",
      "Epoch 43/50\n",
      "5712/5712 [==============================] - 199s 35ms/step - loss: 2.9336 - acc: 0.9820 - val_loss: 2.4694 - val_acc: 0.9720\n",
      "Epoch 44/50\n",
      "5712/5712 [==============================] - 199s 35ms/step - loss: 2.9332 - acc: 0.9820 - val_loss: 2.4699 - val_acc: 0.9713\n",
      "Epoch 45/50\n",
      "5712/5712 [==============================] - 199s 35ms/step - loss: 2.9328 - acc: 0.9826 - val_loss: 2.4674 - val_acc: 0.9717\n",
      "Epoch 46/50\n",
      "5712/5712 [==============================] - 199s 35ms/step - loss: 2.9323 - acc: 0.9830 - val_loss: 2.4675 - val_acc: 0.9720\n",
      "Epoch 47/50\n",
      "5712/5712 [==============================] - 199s 35ms/step - loss: 2.9318 - acc: 0.9834 - val_loss: 2.4683 - val_acc: 0.9715\n",
      "Epoch 48/50\n",
      "5712/5712 [==============================] - 198s 35ms/step - loss: 2.9314 - acc: 0.9836 - val_loss: 2.4670 - val_acc: 0.9713\n",
      "Epoch 49/50\n",
      "5712/5712 [==============================] - 198s 35ms/step - loss: 2.9311 - acc: 0.9835 - val_loss: 2.4683 - val_acc: 0.9711\n",
      "Epoch 50/50\n",
      "5712/5712 [==============================] - 198s 35ms/step - loss: 2.9308 - acc: 0.9838 - val_loss: 2.4702 - val_acc: 0.9706\n"
     ]
    },
    {
     "ename": "ValueError",
     "evalue": "DataFrame constructor not properly called!",
     "output_type": "error",
     "traceback": [
      "\u001b[0;31m---------------------------------------------------------------------------\u001b[0m",
      "\u001b[0;31mValueError\u001b[0m                                Traceback (most recent call last)",
      "\u001b[0;32m<ipython-input-6-7b3bf535b6f9>\u001b[0m in \u001b[0;36m<module>\u001b[0;34m()\u001b[0m\n\u001b[0;32m----> 1\u001b[0;31m \u001b[0msequence_processer\u001b[0m\u001b[0;34m.\u001b[0m\u001b[0mfit\u001b[0m\u001b[0;34m(\u001b[0m\u001b[0;34m)\u001b[0m\u001b[0;34m\u001b[0m\u001b[0m\n\u001b[0m",
      "\u001b[0;32m~/Documents/dev/multi-task-learning-BNER-trigger-word/kari/sequence_processing_model.py\u001b[0m in \u001b[0;36mfit\u001b[0;34m(self)\u001b[0m\n\u001b[1;32m    139\u001b[0m                                        \u001b[0mcallbacks\u001b[0m \u001b[0;34m=\u001b[0m \u001b[0;34m[\u001b[0m\u001b[0mcheckpointer\u001b[0m\u001b[0;34m]\u001b[0m\u001b[0;34m,\u001b[0m\u001b[0;34m\u001b[0m\u001b[0m\n\u001b[1;32m    140\u001b[0m                                        verbose=1)\n\u001b[0;32m--> 141\u001b[0;31m         \u001b[0mtrain_history\u001b[0m \u001b[0;34m=\u001b[0m \u001b[0mpd\u001b[0m\u001b[0;34m.\u001b[0m\u001b[0mDataFrame\u001b[0m\u001b[0;34m(\u001b[0m\u001b[0mtrain_history\u001b[0m\u001b[0;34m)\u001b[0m\u001b[0;34m\u001b[0m\u001b[0m\n\u001b[0m\u001b[1;32m    142\u001b[0m \u001b[0;34m\u001b[0m\u001b[0m\n\u001b[1;32m    143\u001b[0m         \u001b[0;32mreturn\u001b[0m \u001b[0mtrain_history\u001b[0m\u001b[0;34m\u001b[0m\u001b[0m\n",
      "\u001b[0;32m~/miniconda3/envs/kari/lib/python3.6/site-packages/pandas/core/frame.py\u001b[0m in \u001b[0;36m__init__\u001b[0;34m(self, data, index, columns, dtype, copy)\u001b[0m\n\u001b[1;32m    402\u001b[0m                                          dtype=values.dtype, copy=False)\n\u001b[1;32m    403\u001b[0m             \u001b[0;32melse\u001b[0m\u001b[0;34m:\u001b[0m\u001b[0;34m\u001b[0m\u001b[0m\n\u001b[0;32m--> 404\u001b[0;31m                 \u001b[0;32mraise\u001b[0m \u001b[0mValueError\u001b[0m\u001b[0;34m(\u001b[0m\u001b[0;34m'DataFrame constructor not properly called!'\u001b[0m\u001b[0;34m)\u001b[0m\u001b[0;34m\u001b[0m\u001b[0m\n\u001b[0m\u001b[1;32m    405\u001b[0m \u001b[0;34m\u001b[0m\u001b[0m\n\u001b[1;32m    406\u001b[0m         \u001b[0mNDFrame\u001b[0m\u001b[0;34m.\u001b[0m\u001b[0m__init__\u001b[0m\u001b[0;34m(\u001b[0m\u001b[0mself\u001b[0m\u001b[0;34m,\u001b[0m \u001b[0mmgr\u001b[0m\u001b[0;34m,\u001b[0m \u001b[0mfastpath\u001b[0m\u001b[0;34m=\u001b[0m\u001b[0;32mTrue\u001b[0m\u001b[0;34m)\u001b[0m\u001b[0;34m\u001b[0m\u001b[0m\n",
      "\u001b[0;31mValueError\u001b[0m: DataFrame constructor not properly called!"
     ]
    }
   ],
   "source": [
    "sequence_processer.fit()"
   ]
  },
  {
   "cell_type": "markdown",
   "metadata": {},
   "source": [
    "## Loading a pretrained model"
   ]
  },
  {
   "cell_type": "markdown",
   "metadata": {},
   "source": [
    "Loading a pre-trained model is easy. First, we create the SequenceProcessingModel object exactly as before"
   ]
  },
  {
   "cell_type": "code",
   "execution_count": 76,
   "metadata": {},
   "outputs": [],
   "source": [
    "config = config_parser('./config.ini') # parse config.ini\n",
    "parameters = process_parameters(config, {}) # process_parameters expects a dictionary\n",
    "\n",
    "sequence_processer = SequenceProcessingModel(**parameters)"
   ]
  },
  {
   "cell_type": "markdown",
   "metadata": {},
   "source": [
    "and then call `load_pretrained_model()` passing in the filepath to the model weights"
   ]
  },
  {
   "cell_type": "code",
   "execution_count": null,
   "metadata": {},
   "outputs": [],
   "source": [
    "sequence_processer.load_pretrained_model('../output/model_checkpoint.50-2.47.hdf5')"
   ]
  },
  {
   "cell_type": "markdown",
   "metadata": {},
   "source": [
    "## Evaluation"
   ]
  },
  {
   "cell_type": "code",
   "execution_count": 29,
   "metadata": {},
   "outputs": [],
   "source": [
    "import numpy as np\n",
    "\n",
    "from sklearn.metrics import precision_recall_fscore_support"
   ]
  },
  {
   "cell_type": "code",
   "execution_count": 30,
   "metadata": {},
   "outputs": [
    {
     "data": {
      "text/plain": [
       "0.9855531914893617"
      ]
     },
     "execution_count": 30,
     "metadata": {},
     "output_type": "execute_result"
    }
   ],
   "source": [
    "pred_idx, gold_idx, labels_ = sequence_processer.predict()\n",
    "np.count_nonzero((pred_idx == gold_idx)) / len(pred_idx)"
   ]
  },
  {
   "cell_type": "code",
   "execution_count": 31,
   "metadata": {},
   "outputs": [],
   "source": [
    "neg_tag = sequence_processer.ds.tag_type_to_index['O']\n",
    "pred_labels = pred_idx != neg_tag\n",
    "gold_labels = gold_idx != neg_tag"
   ]
  },
  {
   "cell_type": "code",
   "execution_count": 32,
   "metadata": {},
   "outputs": [],
   "source": [
    "TP = 0\n",
    "FP = 0\n",
    "FN = 0\n",
    "\n",
    "for pred, gold in zip(pred_labels, gold_labels):\n",
    "    # FN\n",
    "    if gold and not pred:\n",
    "        FN += 1\n",
    "    # FP\n",
    "    if not gold and pred:\n",
    "        FP += 1\n",
    "    # TP\n",
    "    if gold and pred:\n",
    "        TP += 1\n",
    "        \n",
    "precision = TP / (TP + FP)\n",
    "recall = TP / (TP + FN)\n",
    "f1 = 2 * precision * recall / (precision + recall)\n",
    "        \n",
    "    "
   ]
  },
  {
   "cell_type": "code",
   "execution_count": 33,
   "metadata": {},
   "outputs": [
    {
     "data": {
      "text/plain": [
       "(1612, 149, 416)"
      ]
     },
     "execution_count": 33,
     "metadata": {},
     "output_type": "execute_result"
    }
   ],
   "source": [
    "TP, FP, FN"
   ]
  },
  {
   "cell_type": "code",
   "execution_count": 34,
   "metadata": {},
   "outputs": [
    {
     "data": {
      "text/plain": [
       "(0.9153889835320841, 0.7948717948717948, 0.8508841382950645)"
      ]
     },
     "execution_count": 34,
     "metadata": {},
     "output_type": "execute_result"
    }
   ],
   "source": [
    "precision, recall, f1"
   ]
  },
  {
   "cell_type": "code",
   "execution_count": 64,
   "metadata": {},
   "outputs": [],
   "source": [
    "labels_ = [(k, v)[1] for k, v in sequence_processer.ds.tag_type_to_index.items() if k != 'O']"
   ]
  },
  {
   "cell_type": "code",
   "execution_count": 68,
   "metadata": {},
   "outputs": [],
   "source": [
    "performance = precision_recall_fscore_support(gold_idx, pred_idx, average=None)"
   ]
  },
  {
   "cell_type": "code",
   "execution_count": 69,
   "metadata": {},
   "outputs": [
    {
     "data": {
      "text/plain": [
       "(array([0.99080439, 0.88308977, 0.82672234, 0.83632287, 0.85714286]),\n",
       " array([0.99668683, 0.79661017, 0.74576271, 0.68190128, 0.73031026]),\n",
       " array([0.99373691, 0.83762376, 0.78415842, 0.75125881, 0.78865979]),\n",
       " array([44972,   531,   531,   547,   419]))"
      ]
     },
     "execution_count": 69,
     "metadata": {},
     "output_type": "execute_result"
    }
   ],
   "source": [
    "performance"
   ]
  },
  {
   "cell_type": "code",
   "execution_count": 63,
   "metadata": {},
   "outputs": [
    {
     "data": {
      "text/plain": [
       "[1, 2, 3, 4]"
      ]
     },
     "execution_count": 63,
     "metadata": {},
     "output_type": "execute_result"
    }
   ],
   "source": [
    "labels_\n",
    "\n",
    "tag_to_idx = sequence_processer.ds.tag_type_to_index.items()\n",
    "\n",
    "print(\"Precision\\n{}:{}\".format(tag_to_idx[labels_[0]]performance[0]))"
   ]
  },
  {
   "cell_type": "code",
   "execution_count": 66,
   "metadata": {},
   "outputs": [
    {
     "data": {
      "text/plain": [
       "{'B-Disease': 2, 'E-Disease': 1, 'I-Disease': 3, 'O': 0, 'S-Disease': 4}"
      ]
     },
     "execution_count": 66,
     "metadata": {},
     "output_type": "execute_result"
    }
   ],
   "source": [
    "sequence_processer.ds.tag_type_to_index"
   ]
  },
  {
   "cell_type": "markdown",
   "metadata": {},
   "source": []
  }
 ],
 "metadata": {
  "kernelspec": {
   "display_name": "Python 3",
   "language": "python",
   "name": "python3"
  },
  "language_info": {
   "codemirror_mode": {
    "name": "ipython",
    "version": 3
   },
   "file_extension": ".py",
   "mimetype": "text/x-python",
   "name": "python",
   "nbconvert_exporter": "python",
   "pygments_lexer": "ipython3",
   "version": "3.6.4"
  }
 },
 "nbformat": 4,
 "nbformat_minor": 2
}
