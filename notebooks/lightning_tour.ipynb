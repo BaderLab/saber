{
 "cells": [
  {
   "cell_type": "markdown",
   "metadata": {},
   "source": [
    "# Lightning Tour"
   ]
  },
  {
   "cell_type": "markdown",
   "metadata": {},
   "source": [
    "Introduces the main ways of using Saber.\n",
    "\n",
    "### Table of contents\n",
    "\n",
    "1. [Training](#Training)\n",
    "    1. [Transfer learning](#Transfer-learning)\n",
    "    2. [Multi-task learning](#Multi-task-learning)\n",
    "2. [Saving and loading](#Saving-and-loading)\n",
    "    1. [Saving a model](#Saving-a-model)\n",
    "    2. [Loading a model](#Loading-a-model)\n",
    "3. [Performing predictions](#Preforming-predictions)\n",
    "4. [Visualizations](#Visualizations)"
   ]
  },
  {
   "cell_type": "markdown",
   "metadata": {},
   "source": [
    "## Training"
   ]
  },
  {
   "cell_type": "markdown",
   "metadata": {},
   "source": [
    "Import the required modules"
   ]
  },
  {
   "cell_type": "code",
   "execution_count": null,
   "metadata": {},
   "outputs": [],
   "source": [
    "from saber.config import Config\n",
    "from saber.sequence_processor import SequenceProcessor"
   ]
  },
  {
   "cell_type": "markdown",
   "metadata": {},
   "source": [
    "Create a `SequenceProcessor` object. This object coordinates training, annotation, saving and loading of models and datasets."
   ]
  },
  {
   "cell_type": "code",
   "execution_count": null,
   "metadata": {},
   "outputs": [],
   "source": [
    "sp = SequenceProcessor()"
   ]
  },
  {
   "cell_type": "markdown",
   "metadata": {},
   "source": [
    "If not specified, SequenceProcessor uses the default `config.ini`. Alternatively, you can write your own config file and specify it as follows "
   ]
  },
  {
   "cell_type": "code",
   "execution_count": null,
   "metadata": {},
   "outputs": [],
   "source": [
    "sp = SequenceProcessor(Config('path/to/your/config.ini'))"
   ]
  },
  {
   "cell_type": "markdown",
   "metadata": {},
   "source": [
    "See [here](https://github.com/BaderLab/saber/blob/master/saber/config.ini) for the default `config` file.\n",
    "\n",
    "> Note that if you are calling Saber from the command line, you can provide any parameter in the `config` file as a flag, e.g. `--config_filepath`."
   ]
  },
  {
   "cell_type": "markdown",
   "metadata": {},
   "source": [
    "We can then load the dataset (specified by the `dataset_folder` parameter). If pre-trained token embeddings were specified with `pretrained_embeddings`, you should load them here also (uncomment the `load_embeddings()` function call)"
   ]
  },
  {
   "cell_type": "code",
   "execution_count": null,
   "metadata": {},
   "outputs": [],
   "source": [
    "sp.load_dataset()\n",
    "# sp.load_embeddings()"
   ]
  },
  {
   "cell_type": "markdown",
   "metadata": {},
   "source": [
    "> Note, you can actually pass the filepath to the dataset straight to the `load_dataset()` method, e.g. `sp.load_dataset('path/to/NCBI-Disease')`. The same is true for the `load_embeddings()` method."
   ]
  },
  {
   "cell_type": "markdown",
   "metadata": {},
   "source": [
    "Lastly, we create the model we would like to use (specified by the `model_name` parameter)."
   ]
  },
  {
   "cell_type": "code",
   "execution_count": null,
   "metadata": {},
   "outputs": [],
   "source": [
    "sp.create_model()"
   ]
  },
  {
   "cell_type": "markdown",
   "metadata": {},
   "source": [
    "> Again, `model_name` can alternatively be passed directly to `create_model()`."
   ]
  },
  {
   "cell_type": "markdown",
   "metadata": {},
   "source": [
    "We are then ready to train:"
   ]
  },
  {
   "cell_type": "code",
   "execution_count": null,
   "metadata": {},
   "outputs": [],
   "source": [
    "sp.fit()"
   ]
  },
  {
   "cell_type": "markdown",
   "metadata": {},
   "source": [
    "### Transfer learning"
   ]
  },
  {
   "cell_type": "markdown",
   "metadata": {},
   "source": [
    "Transfer learning is as easy as training, saving, loading, and then continuing training of a model. Here is an example"
   ]
  },
  {
   "cell_type": "code",
   "execution_count": null,
   "metadata": {},
   "outputs": [],
   "source": [
    "# Create and train a model on GENIA corpus\n",
    "sp = SequenceProcessor()\n",
    "sp.load_dataset('path/to/datasets/GENIA')\n",
    "sp.create_model()\n",
    "sp.fit()\n",
    "sp.save('pretrained_models/GENIA')\n",
    "\n",
    "# Load that model\n",
    "del sp\n",
    "sp = SequenceProcessor()\n",
    "sp.load('pretrained_models/GENIA')\n",
    "\n",
    "# Use transfer learning to continue training on a new dataset\n",
    "sp.load_dataset('path/to/datasets/CRAFT')\n",
    "sp.fit()"
   ]
  },
  {
   "cell_type": "markdown",
   "metadata": {},
   "source": [
    "> Note that there is currently no way to easily do this with the command line interface, but I am working on it!"
   ]
  },
  {
   "cell_type": "markdown",
   "metadata": {},
   "source": [
    "### Multi-task learning\n",
    "\n",
    "Multi-task learning is as easy as specifying multiple dataset paths, either in the `config` file, at the command line via the flag `--dataset_folder`, or as an argument to `load_dataset()`. The number of datasets is arbitrary.\n",
    "\n",
    "Here is an example using the last method"
   ]
  },
  {
   "cell_type": "code",
   "execution_count": null,
   "metadata": {},
   "outputs": [],
   "source": [
    "sp = SequenceProcessor()\n",
    "\n",
    "# Simply pass multiple dataset paths to load_dataset to use multi-task learning. \n",
    "sp.load_dataset('path/to/datasets/NCBI-Disease', 'path/to/datasets/Linnaeus')\n",
    "\n",
    "sp.create_model()\n",
    "sp.fit()"
   ]
  },
  {
   "cell_type": "markdown",
   "metadata": {},
   "source": [
    "## Saving and loading\n",
    "\n",
    "In the following sections we introduce the saving and loading of models.\n",
    "\n",
    "### Saving a model\n",
    "\n",
    "Assuming the model has already been created (see above), we can easily save our model like so"
   ]
  },
  {
   "cell_type": "code",
   "execution_count": null,
   "metadata": {},
   "outputs": [],
   "source": [
    "path_to_saved_model = 'path/to/pretrained_models/PRGE'\n",
    "\n",
    "sp.save(path_to_saved_model)"
   ]
  },
  {
   "cell_type": "markdown",
   "metadata": {},
   "source": [
    "> Currently, `sp.save()` will save the weights from the last training epoch by default."
   ]
  },
  {
   "cell_type": "markdown",
   "metadata": {},
   "source": [
    "### Loading a model\n",
    "\n",
    "Lets illustrate loading a model with a new `SequenceProccesor` object"
   ]
  },
  {
   "cell_type": "code",
   "execution_count": null,
   "metadata": {},
   "outputs": [],
   "source": [
    "# Delete our previous SequenceProccesor object (if it exists)\n",
    "if 'sp' in locals(): del sp\n",
    "\n",
    "# Create a new SequenceProccesor object\n",
    "sp = SequenceProcessor()\n",
    "\n",
    "# Load a previous model\n",
    "sp.load(path_to_saved_model)"
   ]
  },
  {
   "cell_type": "markdown",
   "metadata": {},
   "source": [
    "## Preforming predictions"
   ]
  },
  {
   "cell_type": "markdown",
   "metadata": {},
   "source": [
    "### Library\n",
    "\n",
    "If you are using Saber as a `python` library, you can perform predictions on raw text with the `annotate()` method. Passing the argument `jupyter=True` allows us to render the result directly in the notebook"
   ]
  },
  {
   "cell_type": "code",
   "execution_count": null,
   "metadata": {},
   "outputs": [],
   "source": [
    "# Assuming sp is a `SequenceProcessor` object with a loaded (and trained) model\n",
    "sp.annotate('Viral-mediated noisy gene expression reveals biphasic E2f1 response to MYC Gene expression.', \n",
    "            jupyter=True)"
   ]
  },
  {
   "cell_type": "markdown",
   "metadata": {},
   "source": [
    "### Web-service\n",
    "\n",
    "Sabers web-service is invoked locally from the shell with "
   ]
  },
  {
   "cell_type": "code",
   "execution_count": null,
   "metadata": {},
   "outputs": [],
   "source": [
    "$ python -m saber.app"
   ]
  },
  {
   "cell_type": "markdown",
   "metadata": {},
   "source": [
    "> You have to run this from your terminal! Note in the notebook.\n",
    "\n",
    "See [here](https://baderlab.github.io/saber-api-docs/) for Sabers web-service API docs."
   ]
  },
  {
   "cell_type": "markdown",
   "metadata": {},
   "source": [
    "## Visualizations\n",
    "\n",
    "_Note: This is less a feature and more a by-product of the fact that the model is implemented in [Keras](https://keras.io)._\n",
    "\n",
    "We can easily create an image depiction our model. First, install the [graphviz graph library](http://www.graphviz.org/) and the [Python interface](https://pypi.python.org/pypi/graphviz). This is useful if you plan on modifying the architecture of the model.\n",
    "\n",
    "> More info can be found [here](https://machinelearningmastery.com/visualize-deep-learning-neural-network-model-keras/)."
   ]
  },
  {
   "cell_type": "code",
   "execution_count": null,
   "metadata": {},
   "outputs": [],
   "source": [
    "sp = SequenceProcessor()\n",
    "\n",
    "# set this variable equal to your Keras model object.\n",
    "model_ = sp.model.model[0]"
   ]
  },
  {
   "cell_type": "markdown",
   "metadata": {},
   "source": [
    "We can either: create and save an image on our local machine,"
   ]
  },
  {
   "cell_type": "code",
   "execution_count": null,
   "metadata": {},
   "outputs": [],
   "source": [
    "from keras.utils import plot_model\n",
    "plot_model(model_, to_file='model.png', show_shapes=True, show_layer_names=True)"
   ]
  },
  {
   "cell_type": "markdown",
   "metadata": {},
   "source": [
    "or, visualize it directly in the notebook"
   ]
  },
  {
   "cell_type": "code",
   "execution_count": null,
   "metadata": {},
   "outputs": [],
   "source": [
    "from IPython.display import SVG\n",
    "from keras.utils.vis_utils import model_to_dot\n",
    "\n",
    "SVG(model_to_dot(model_, show_shapes=True, show_layer_names=True).create(prog='dot', format='svg'))"
   ]
  }
 ],
 "metadata": {
  "kernelspec": {
   "display_name": "Python [conda env:saber]",
   "language": "python",
   "name": "conda-env-saber-py"
  },
  "language_info": {
   "codemirror_mode": {
    "name": "ipython",
    "version": 3
   },
   "file_extension": ".py",
   "mimetype": "text/x-python",
   "name": "python",
   "nbconvert_exporter": "python",
   "pygments_lexer": "ipython3",
   "version": "3.6.5"
  }
 },
 "nbformat": 4,
 "nbformat_minor": 2
}
