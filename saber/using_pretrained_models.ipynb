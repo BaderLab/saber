{
 "cells": [
  {
   "cell_type": "markdown",
   "metadata": {},
   "source": [
    "# Using a pretrained model\n",
    "\n",
    "Import required modules and parse the config file:"
   ]
  },
  {
   "cell_type": "code",
   "execution_count": null,
   "metadata": {},
   "outputs": [],
   "source": [
    "from config import Config\n",
    "from sequence_processor import SequenceProcessor\n",
    "\n",
    "# Parse the config file. Note if you want to use a config other \n",
    "# than the default (found at saber/config.ini), just pass its \n",
    "# filepath as argument to Config()\n",
    "config = Config() "
   ]
  },
  {
   "cell_type": "markdown",
   "metadata": {},
   "source": [
    "Load everything we need to perform prediction with the __neural net__."
   ]
  },
  {
   "cell_type": "code",
   "execution_count": null,
   "metadata": {},
   "outputs": [],
   "source": [
    "# If the pre-trained model is not already unzipped, \n",
    "# that will be done for you.\n",
    "path_to_saved_model = '../pretrained_models/PRGE'\n",
    "\n",
    "# Create a new SequenceProccesor object\n",
    "sp = SequenceProcessor(config)\n",
    "\n",
    "# Load the previous model\n",
    "sp.load(path_to_saved_model)"
   ]
  },
  {
   "cell_type": "markdown",
   "metadata": {},
   "source": [
    "Perform the __annotation__, returning a simple __dictionary__. Set `jupyter=True` to get nicely formatted prediction in the notebook."
   ]
  },
  {
   "cell_type": "code",
   "execution_count": null,
   "metadata": {},
   "outputs": [],
   "source": [
    "# Raw text\n",
    "abstract = '''Why would MUC1-C play a role in the regulation of aerobic glycolysis and PKM2 activity? The present studies further indicate that MUC1-C stimulates or suppresses PKM2 activity in breast cancer cells by a mechanism associated with tyrosine phosphorylation of the MUC1-C cytoplasmic domain. In this context, EGF stimulation induced phosphorylation of the MUC1-C cytoplasmic domain on tyrosine and suppressed PKM2 activity by a MUC1-C-dependent mechanism. These results are in concert with inhibition of PKM2 activity by binding of the EGFR-phosphorylated MUC1-C cytoplasmic domain. Nonetheless, given the diversity of signals that are induced by EGFR activation, including regulation of the pentose phosphate pathway in glycolysis, these results do not exclude the possibility that MUC1-C suppresses PKM2 activity by another mechanism. Arguably, as noted above, MUC1-C could bind to the PKM2 B-domain Cys-165 and function as an adapter to facilitate an interaction between c-Src and PKM2. In this regard, phosphorylation of the MUC1-C cytoplasmic domain on the YEKV motif in turn functions as a binding site for the c-Src SH2 domain [27]. The available evidence indicates that MUC1-C functions physiologically in signaling stress at the apical border of normal epithelial cells that interface with the external environment [11]. In the epithelial stress response with reversible loss of polarity, apical cell surface proteins, such as MUC1-C, can transiently form complexes with activated receptor tyrosine kinases to promote proliferation and repair of the epithelial layer [11]. In carcinoma cells with irreversible loss of polarity, the MUC1-C subunit constitutively interacts with EGFR and promotes EGFR signaling [12]. Therefore, it is formally possible that an EGFR-mediated proliferative response involving overexpression of the MUC1-C subunit has been appropriated and subverted by cancer cells to promote their own growth and survival. The overexpression of MUC1-C is sufficient to induce transformation [13], [14] and resistance to cell death [28], [29], [30], [31]. Cancer cells could thus conceivably exploit MUC1-C-mediated regulation of aerobic glycolysis and PKM2 to divert glycolytic metabolites for tumor cell growth and survival. Alternatively, it is also conceivable that binding of MUC1-C to the PKM2 Cys-474 may under certain metabolic conditions be functionally important in activating PKM2 for the increased production of pyruvate and thereby (i) ATP through the TCA cycle, and (ii) acetyl-CoA and lipid synthesis. For example, the redox state of the cancer cell could affect reactivity of the MUC1-C Cys-3 residue and thereby dictate whether MUC1-C binds to PKM2 Cys-474 and induces PKM2 activity. Thus, further studies will be needed that address the effects of MUC1-C on the pentose phosphate pathway, glucose-derived lipid biosynthesis, oxygen consumption and ATP production in cancer cells. In summary, the present findings demonstrate that MUC1-C stimulates aerobic glycolysis and that this response may be mediated, at least in part, by both activation of the Akt pathway and interactions with PKM2.'''\n",
    "\n",
    "# Perform the annotation\n",
    "annotation = sp.annotate(abstract, jupyter=True)"
   ]
  },
  {
   "cell_type": "markdown",
   "metadata": {},
   "source": [
    "__Saber__ takes about one tenth of a second to process an abstract of ~250 words."
   ]
  },
  {
   "cell_type": "code",
   "execution_count": null,
   "metadata": {},
   "outputs": [],
   "source": [
    "%timeit sp.annotate(abstract)"
   ]
  },
  {
   "cell_type": "markdown",
   "metadata": {},
   "source": [
    "The `predict()` method returns a `dict` object, but can be converted to a formatted `json` string for ease-of-use in downstream applications. For example:"
   ]
  },
  {
   "cell_type": "code",
   "execution_count": null,
   "metadata": {},
   "outputs": [],
   "source": [
    "annotation['ents'] # get a list of annotated entities"
   ]
  },
  {
   "cell_type": "code",
   "execution_count": null,
   "metadata": {},
   "outputs": [],
   "source": [
    "annotation['text'] # get proccesed and normalized text that prediction was peformed on"
   ]
  },
  {
   "cell_type": "code",
   "execution_count": null,
   "metadata": {},
   "outputs": [],
   "source": [
    "import json\n",
    "\n",
    "json_annotation = json.dumps(annotation) # convert to json object"
   ]
  },
  {
   "cell_type": "code",
   "execution_count": null,
   "metadata": {},
   "outputs": [],
   "source": [
    "annotation = json.loads(json_annotation) # convert back to python dictionary"
   ]
  }
 ],
 "metadata": {
  "kernelspec": {
   "display_name": "Python 3",
   "language": "python",
   "name": "python3"
  },
  "language_info": {
   "codemirror_mode": {
    "name": "ipython",
    "version": 3
   },
   "file_extension": ".py",
   "mimetype": "text/x-python",
   "name": "python",
   "nbconvert_exporter": "python",
   "pygments_lexer": "ipython3",
   "version": "3.6.5"
  }
 },
 "nbformat": 4,
 "nbformat_minor": 2
}
